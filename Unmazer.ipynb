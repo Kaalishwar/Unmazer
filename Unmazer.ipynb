{
 "cells": [
  {
   "cell_type": "code",
   "execution_count": 57,
   "metadata": {},
   "outputs": [],
   "source": [
    "import pandas as pd\n",
    "import json\n",
    "import tqdm\n",
    "import warnings\n",
    "import matplotlib.pyplot as plt\n",
    "warnings.simplefilter(action='ignore', category=FutureWarning)\n",
    "#reading the dataset\n",
    "listing_data = pd.read_csv('C:/Users/Kaalish/Downloads/listings.csv')"
   ]
  },
  {
   "cell_type": "code",
   "execution_count": 36,
   "metadata": {},
   "outputs": [],
   "source": [
    "# neighbourhood_data = pd.read_json('E:/airbnb analysis/neighbourhoods.geojson')\n",
    "import json\n",
    "with open('C:/Users/Kaalish/Downloads/neighbourhoods.geojson') as f:\n",
    "  neighbourhood_data = json.load(f)"
   ]
  },
  {
   "cell_type": "code",
   "execution_count": 37,
   "metadata": {},
   "outputs": [
    {
     "name": "stdout",
     "output_type": "stream",
     "text": [
      "(10272, 16)\n"
     ]
    }
   ],
   "source": [
    "print(listing_data.shape)"
   ]
  },
  {
   "cell_type": "code",
   "execution_count": 38,
   "metadata": {},
   "outputs": [
    {
     "name": "stdout",
     "output_type": "stream",
     "text": [
      "id                                    0\n",
      "name                                  0\n",
      "host_id                               0\n",
      "host_name                             5\n",
      "neighbourhood_group               10272\n",
      "neighbourhood                         0\n",
      "latitude                              0\n",
      "longitude                             0\n",
      "room_type                             0\n",
      "price                                 0\n",
      "minimum_nights                        0\n",
      "number_of_reviews                     0\n",
      "last_review                        2600\n",
      "reviews_per_month                  2600\n",
      "calculated_host_listings_count        0\n",
      "availability_365                      0\n",
      "dtype: int64\n",
      "id                                   0\n",
      "name                                 0\n",
      "host_id                              0\n",
      "host_name                            5\n",
      "neighbourhood                        0\n",
      "latitude                             0\n",
      "longitude                            0\n",
      "room_type                            0\n",
      "price                                0\n",
      "minimum_nights                       0\n",
      "number_of_reviews                    0\n",
      "last_review                       2600\n",
      "reviews_per_month                 2600\n",
      "calculated_host_listings_count       0\n",
      "availability_365                     0\n",
      "dtype: int64\n",
      "id                                   0\n",
      "name                                 0\n",
      "host_id                              0\n",
      "host_name                            5\n",
      "neighbourhood                        0\n",
      "latitude                             0\n",
      "longitude                            0\n",
      "room_type                            0\n",
      "price                                0\n",
      "minimum_nights                       0\n",
      "number_of_reviews                    0\n",
      "last_review                       2600\n",
      "reviews_per_month                 2600\n",
      "calculated_host_listings_count       0\n",
      "availability_365                     0\n",
      "dtype: int64\n",
      "(10272, 16)\n",
      "(10272, 15)\n"
     ]
    }
   ],
   "source": [
    "#finding the missing values\n",
    "print(listing_data.isnull().sum())\n",
    "processed_listing_data = listing_data.drop('neighbourhood_group',axis=1)\n",
    "print(processed_listing_data.isnull().sum())\n",
    "processed_listing_dataprocessed_data = processed_listing_data.fillna(method ='pad')\n",
    "print(processed_listing_data.isnull().sum())\n",
    "print(listing_data.shape)\n",
    "print(processed_listing_data.shape)"
   ]
  },
  {
   "cell_type": "code",
   "execution_count": 39,
   "metadata": {},
   "outputs": [],
   "source": [
    "#Sorting the top_neighbour areas\n",
    "\n",
    "top_areas = pd.DataFrame(processed_listing_data['neighbourhood'].value_counts())\n",
    "top_areas=top_areas.reset_index()\n",
    "top_areas=top_areas.rename(columns={\"index\": \"neighbourhood_id\", \"neighbourhood\": \"Total_no._of_listing\"})\n"
   ]
  },
  {
   "cell_type": "code",
   "execution_count": 40,
   "metadata": {},
   "outputs": [
    {
     "name": "stdout",
     "output_type": "stream",
     "text": [
      "<bound method NDFrame.head of     neighbourhood_id                                         coordinate\n",
      "0              78704  [[[[-97.754473, 30.265067], [-97.754099, 30.26...\n",
      "1              78702  [[[[-97.691861, 30.248477], [-97.69172, 30.248...\n",
      "2              78701  [[[[-97.735988, 30.251013], [-97.735889, 30.25...\n",
      "3              78741  [[[[-97.706525, 30.250242], [-97.706276, 30.25...\n",
      "4              78703  [[[[-97.766056, 30.312954], [-97.764822, 30.31...\n",
      "5              78745  [[[[-97.792073, 30.231829], [-97.78922, 30.230...\n",
      "6              78705  [[[[-97.729778, 30.298707], [-97.728929, 30.29...\n",
      "7              78751  [[[[-97.706766, 30.322105], [-97.70693, 30.320...\n",
      "8              78723  [[[[-97.665396, 30.285639], [-97.665952, 30.28...\n",
      "9              78758  [[[[-97.71223, 30.348005], [-97.712459, 30.347...\n",
      "10             78746  [[[[-97.776631, 30.323006], [-97.776484, 30.32...\n",
      "11             78734  [[[[-97.920864, 30.434956], [-97.920671, 30.43...\n",
      "12             78757  [[[[-97.736001, 30.378569], [-97.733558, 30.37...\n",
      "13             78721  [[[[-97.665396, 30.285639], [-97.665983, 30.28...\n",
      "14             78722  [[[[-97.703945, 30.282572], [-97.705553, 30.28...\n",
      "15             78744  [[[[-97.683353, 30.214323], [-97.683314, 30.21...\n",
      "16             78748  [[[[-97.8315, 30.189996], [-97.827496, 30.1880...\n",
      "17             78756  [[[[-97.727922, 30.329055], [-97.727604, 30.32...\n",
      "18             78729  [[[[-97.721378, 30.473581], [-97.720912, 30.47...\n",
      "19             78731  [[[[-97.745979, 30.361377], [-97.745259, 30.36...\n",
      "20             78752  [[[[-97.68634, 30.332593], [-97.685135, 30.331...\n",
      "21             78749  [[[[-97.82331, 30.23486], [-97.821215, 30.2338...\n",
      "22             78754  [[[[-97.636577, 30.402658], [-97.637538, 30.39...\n",
      "23             78753  [[[[-97.671507, 30.424375], [-97.671226, 30.42...\n",
      "24             78735  [[[[-97.862415, 30.297004], [-97.862158, 30.29...\n",
      "25             78727  [[[[-97.697291, 30.440037], [-97.696756, 30.43...\n",
      "26             78737  [[[[-98.018756, 30.241665], [-98.016169, 30.24...\n",
      "27             78759  [[[[-97.74744, 30.421618], [-97.747214, 30.420...\n",
      "28             78717  [[[[-97.707397, 30.474825], [-97.707526, 30.47...\n",
      "29             78733  [[[[-97.842949, 30.323099], [-97.842743, 30.32...\n",
      "30             78724  [[[[-97.560724, 30.249028], [-97.560975, 30.24...\n",
      "31             78728  [[[[-97.671057, 30.471321], [-97.670572, 30.46...\n",
      "32             78736  [[[[-97.922125, 30.293004], [-97.919183, 30.29...\n",
      "33             78732  [[[[-97.873028, 30.438064], [-97.873346, 30.43...\n",
      "34             78738  [[[[-98.006219, 30.360791], [-98.004242, 30.36...\n",
      "35             78725  [[[[-97.623382, 30.264594], [-97.621263, 30.26...\n",
      "36             78750  [[[[-97.791053, 30.450485], [-97.790872, 30.44...\n",
      "37             78747  [[[[-97.736173, 30.159865], [-97.735912, 30.15...\n",
      "38             78730  [[[[-97.843974, 30.393573], [-97.841825, 30.39...\n",
      "39             78739  [[[[-97.890016, 30.209412], [-97.889286, 30.20...\n",
      "40             78726  [[[[-97.825802, 30.45545], [-97.824793, 30.455...\n",
      "41             78742  [[[[-97.640433, 30.256466], [-97.640251, 30.25...\n",
      "42             78719  [[[[-97.651577, 30.201428], [-97.652865, 30.20...\n",
      "43             78712  [[[[-97.733661, 30.285364], [-97.732949, 30.28...>\n",
      "(44, 2)\n",
      "Index(['neighbourhood_id', 'coordinate'], dtype='object')\n"
     ]
    }
   ],
   "source": [
    "#Finding the coordinates of the neighbour_id\n",
    "n_id = top_areas['neighbourhood_id']\n",
    "coordinates={}\n",
    "neiid=[]\n",
    "coorid=[]\n",
    "for nid in n_id:\n",
    "    \n",
    "    features = neighbourhood_data['features']\n",
    "    \n",
    "    \n",
    "    for i in range(len(features)):\n",
    "        if int(features[i]['properties']['neighbourhood']) == nid:\n",
    "            neiid.append(nid)\n",
    "            coorid.append(features[i]['geometry']['coordinates'])\n",
    "            continue\n",
    "    coordinates[\"neighbourhood_id\"] = neiid \n",
    "    coordinates[\"coordinate\"] = coorid\n",
    "            \n",
    "   \n",
    "coordinates_data = pd.DataFrame(coordinates)\n",
    "print(coordinates_data.head)lats2018 = listings['latitude'].tolist()\n",
    "lons2018 = listings['longitude'].tolist()\n",
    "locations = list(zip(lats2018, lons2018))\n",
    "\n",
    "map1 = folium.Map(location=[52.3680, 4.9036], zoom_start=11.5)\n",
    "FastMarkerCluster(data=locations).add_to(map1)\n",
    "map1\n",
    "\n",
    "print(coordinates_data.shape)\n",
    "print(coordinates_data.columns)"
   ]
  },
  {
   "cell_type": "code",
   "execution_count": null,
   "metadata": {},
   "outputs": [],
   "source": [
    "#to make the interactive maps\n",
    "import folium\n",
    "from folium.plugins import FastMarkerCluster\n",
    "\n",
    "lats2018 = listing_data['latitude'].tolist()\n",
    "lons2018 = listing_data['longitude'].tolist()\n",
    "locations = list(zip(lats2018, lons2018))\n",
    "\n",
    "map1 = folium.Map(location=[52.3680, 4.9036], zoom_start=11.5)\n",
    "FastMarkerCluster(data=locations).add_to(map1)\n",
    "map1\n"
   ]
  },
  {
   "cell_type": "code",
   "execution_count": 41,
   "metadata": {},
   "outputs": [
    {
     "name": "stdout",
     "output_type": "stream",
     "text": [
      "(44, 3)\n",
      "Index(['neighbourhood_id', 'Total_no._of_listing', 'coordinate'], dtype='object')\n",
      "   neighbourhood_id  Total_no._of_listing  \\\n",
      "0             78704                  1822   \n",
      "1             78702                  1263   \n",
      "2             78701                   713   \n",
      "3             78741                   622   \n",
      "4             78703                   530   \n",
      "5             78745                   513   \n",
      "6             78705                   505   \n",
      "7             78751                   478   \n",
      "8             78723                   313   \n",
      "9             78758                   298   \n",
      "\n",
      "                                          coordinate  \n",
      "0  [[[[-97.754473, 30.265067], [-97.754099, 30.26...  \n",
      "1  [[[[-97.691861, 30.248477], [-97.69172, 30.248...  \n",
      "2  [[[[-97.735988, 30.251013], [-97.735889, 30.25...  \n",
      "3  [[[[-97.706525, 30.250242], [-97.706276, 30.25...  \n",
      "4  [[[[-97.766056, 30.312954], [-97.764822, 30.31...  \n",
      "5  [[[[-97.792073, 30.231829], [-97.78922, 30.230...  \n",
      "6  [[[[-97.729778, 30.298707], [-97.728929, 30.29...  \n",
      "7  [[[[-97.706766, 30.322105], [-97.70693, 30.320...  \n",
      "8  [[[[-97.665396, 30.285639], [-97.665952, 30.28...  \n",
      "9  [[[[-97.71223, 30.348005], [-97.712459, 30.347...  \n"
     ]
    }
   ],
   "source": [
    "#Merging the the coordinates with the neighbour id\n",
    "top_areas_of_listing = pd.merge(top_areas,coordinates_data,on=\"neighbourhood_id\")\n",
    "print(top_areas_of_listing.shape)\n",
    "print(top_areas_of_listing.columns)\n",
    "print(top_areas_of_listing.head(10))"
   ]
  },
  {
   "cell_type": "code",
   "execution_count": 46,
   "metadata": {},
   "outputs": [],
   "source": [
    "#Output in the csv format\n",
    "top_areas_of_listing.to_csv('C:/Studies/Intern/top_areas_of_listing with coordinates.csv')\n"
   ]
  },
  {
   "cell_type": "code",
   "execution_count": 47,
   "metadata": {},
   "outputs": [
    {
     "name": "stdout",
     "output_type": "stream",
     "text": [
      "                     host_name  Total_no._of_listing\n",
      "0                          Kia                   398\n",
      "1                  WanderJaunt                   131\n",
      "2     TurnKey Vacation Rentals                   124\n",
      "3                       Martin                   101\n",
      "4                      Michael                    98\n",
      "...                        ...                   ...\n",
      "2705                     Jacek                     1\n",
      "2706               Eric & Erin                     1\n",
      "2707             Vector Travel                     1\n",
      "2708                     Alisa                     1\n",
      "2709                    Jonnie                     1\n",
      "\n",
      "[2710 rows x 2 columns]\n",
      "                  host_name  Total_no._of_listing\n",
      "0                       Kia                   398\n",
      "1               WanderJaunt                   131\n",
      "2  TurnKey Vacation Rentals                   124\n",
      "3                    Martin                   101\n",
      "4                   Michael                    98\n",
      "5                     David                    76\n",
      "6                     Sarah                    74\n",
      "7                      Ryan                    67\n",
      "8                     James                    62\n",
      "9              Renters Club                    56\n"
     ]
    }
   ],
   "source": [
    "#Sorting the top_host\n",
    "\n",
    "top_hosts = pd.DataFrame(processed_listing_data['host_name'].value_counts())\n",
    "top_hosts=top_hosts.reset_index()\n",
    "top_hosts=top_hosts.rename(columns={\"index\": \"host_name\", \"host_name\": \"Total_no._of_listing\"})\n",
    "print(top_hosts)\n",
    "top_10_hosts = top_hosts.head(10)\n",
    "print(top_10_hosts)\n",
    "top_10_hosts.to_csv('C:/Studies/Intern/top_10_hosts.csv',index=\"False\")"
   ]
  },
  {
   "cell_type": "code",
   "execution_count": 58,
   "metadata": {},
   "outputs": [
    {
     "data": {
      "image/png": "[encoded data removed]",
      "text/plain": [
       "<Figure size 1080x216 with 1 Axes>"
      ]
     },
     "metadata": {
      "needs_background": "light"
     },
     "output_type": "display_data"
    }
   ],
   "source": [
    "freq = listing_data['room_type']. value_counts().sort_values(ascending=True)\n",
    "freq.plot.barh(figsize=(15, 3), width=1, color = [\"g\",\"b\",\"r\"])\n",
    "plt.show()\n"
   ]
  },
  {
   "cell_type": "code",
   "execution_count": 59,
   "metadata": {},
   "outputs": [
    {
     "data": {
      "image/png": "[encoded data removed]",
      "text/plain": [
       "<Figure size 720x576 with 1 Axes>"
      ]
     },
     "metadata": {
      "needs_background": "light"
     },
     "output_type": "display_data"
    }
   ],
   "source": [
    "feq=listing_data['neighbourhood'].value_counts().sort_values(ascending=True)\n",
    "feq.plot.barh(figsize=(10, 8), color='b', width=1)\n",
    "plt.title(\"Number of listings by neighbourhood\", fontsize=20)\n",
    "plt.xlabel('Number of listings', fontsize=12)\n",
    "plt.show()"
   ]
  },
  {
   "cell_type": "code",
   "execution_count": null,
   "metadata": {},
   "outputs": [],
   "source": []
  }
 ],
 "metadata": {
  "kernelspec": {
   "display_name": "Python 3",
   "language": "python",
   "name": "python3"
  },
  "language_info": {
   "codemirror_mode": {
    "name": "ipython",
    "version": 3
   },
   "file_extension": ".py",
   "mimetype": "text/x-python",
   "name": "python",
   "nbconvert_exporter": "python",
   "pygments_lexer": "ipython3",
   "version": "3.8.5"
  }
 },
 "nbformat": 4,
 "nbformat_minor": 4
}
